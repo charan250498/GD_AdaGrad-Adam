{
  "nbformat": 4,
  "nbformat_minor": 0,
  "metadata": {
    "colab": {
      "provenance": [],
      "collapsed_sections": []
    },
    "kernelspec": {
      "name": "python3",
      "display_name": "Python 3"
    },
    "language_info": {
      "name": "python"
    }
  },
  "cells": [
    {
      "cell_type": "markdown",
      "source": [
        "# Nonlinear Optimization\n",
        "This notebook provides a starter code for implementing nonlinear optimization methods for an objective function.\n",
        "\n",
        "Please add this notebook to your Google Drive and complete all designated sections accordingly.\n",
        "\n",
        "Creating a folder in your Google Drive to hold your Colaboratory assignments is recommended. Please include your .ipynb file with your assignment submission."
      ],
      "metadata": {
        "id": "tbCLumVJaAPg"
      }
    },
    {
      "cell_type": "markdown",
      "source": [
        "#Headers\n",
        "Feel free to add any headers here."
      ],
      "metadata": {
        "id": "VQW3IrAeIqNw"
      }
    },
    {
      "cell_type": "code",
      "source": [
        "from math import sqrt\n",
        "from numpy import asarray\n",
        "from numpy import arange\n",
        "from numpy import meshgrid\n",
        "from matplotlib import pyplot\n",
        "from mpl_toolkits.mplot3d import Axes3D\n",
        "from mpl_toolkits import mplot3d"
      ],
      "metadata": {
        "id": "sWXz6CndaCFs"
      },
      "execution_count": null,
      "outputs": []
    },
    {
      "cell_type": "markdown",
      "source": [
        "# Objective Function\n",
        "Modify the \"objective\" function using the following equation.\n",
        "\n",
        "$$f(x,y) = 4x^{2} + \\dfrac{(y+3)^2}{15}$$"
      ],
      "metadata": {
        "id": "k5ub2ypUaFnG"
      }
    },
    {
      "cell_type": "code",
      "source": [
        "def objective(x, y):\n",
        "\t# <<TODO#1>> modify the objective function\n",
        "\treturn 1"
      ],
      "metadata": {
        "id": "9WtdQdbCaJX4"
      },
      "execution_count": null,
      "outputs": []
    },
    {
      "cell_type": "markdown",
      "source": [
        "# Gradient of objective function\n",
        "Modify the \"gradient\" function accordingly. "
      ],
      "metadata": {
        "id": "cZofh2xkaNgz"
      }
    },
    {
      "cell_type": "code",
      "source": [
        "def gradient(x, y):\n",
        "\t# <<TODO#2>> modify the gradient function\n",
        "\treturn asarray([1, 1])"
      ],
      "metadata": {
        "id": "k8AE7skfaSLX"
      },
      "execution_count": null,
      "outputs": []
    },
    {
      "cell_type": "markdown",
      "source": [
        "#Part a: Plot the objective function\n",
        "Use the following block to plot the objective function. Please do not modify it."
      ],
      "metadata": {
        "id": "cD2BOJ4JGnu0"
      }
    },
    {
      "cell_type": "code",
      "source": [
        "# define range for input\n",
        "bounds = asarray([[-15.0, 15.0], [-15.0, 15.0]])\n",
        "# sample input range uniformly at 0.1 increments\n",
        "xaxis = arange(bounds[0,0], bounds[0,1], 0.1)\n",
        "yaxis = arange(bounds[1,0], bounds[1,1], 0.1)\n",
        "# create a mesh from the axis\n",
        "x, y = meshgrid(xaxis, yaxis)\n",
        "# Figure 1\n",
        "# create a surface plot with the jet color scheme\n",
        "figure_1 = pyplot.figure(1)\n",
        "axis = figure_1.gca(projection='3d')\n",
        "axis.plot_surface(x, y, objective(x, y), cmap='jet')"
      ],
      "metadata": {
        "id": "VryKWTQpHA1y"
      },
      "execution_count": null,
      "outputs": []
    },
    {
      "cell_type": "markdown",
      "source": [
        "#Part b: Basic Gradient Descent\n"
      ],
      "metadata": {
        "id": "W4L0PJ8xJetp"
      }
    },
    {
      "cell_type": "markdown",
      "source": [
        "## b.1. Set Parameters\n",
        "You may change the following parameters."
      ],
      "metadata": {
        "id": "87B2hRKBPRkC"
      }
    },
    {
      "cell_type": "code",
      "source": [
        "# define the total iterations\n",
        "n_iter = 200\n",
        "# steps size\n",
        "gamma_t = 0.2"
      ],
      "metadata": {
        "id": "5bzpkGysPVKR"
      },
      "execution_count": null,
      "outputs": []
    },
    {
      "cell_type": "markdown",
      "source": [
        "##b.2. Gradient Descent Function\n",
        "Modify the following function to implement a basic gradient descent approach."
      ],
      "metadata": {
        "id": "Z5wZuTEAMIWL"
      }
    },
    {
      "cell_type": "code",
      "source": [
        "def gradient_descent(objective, derivative, bounds, n_iter, gamma_t):\n",
        "\t# track all solutions\n",
        "\tsolutions = list()\n",
        "\t# Consider an initial point\n",
        "\tp = [-10, 10]\n",
        "\tscore = objective(p[0], p[1])\n",
        "\t# run the gradient descent\n",
        "\tfor t in range(n_iter):\n",
        "\t\t# report progress\n",
        "\t\tprint('>%d f(%s) = %.5f' % (t, p, score))\n",
        "\t\t#<<TODO#3>> Add your code here\n",
        "\treturn solutions"
      ],
      "metadata": {
        "id": "GR4ePxmkKoVs"
      },
      "execution_count": null,
      "outputs": []
    },
    {
      "cell_type": "markdown",
      "source": [
        "##b.3. Solve the Problem using Gradient Descent\n",
        "Use the following block to solve the problem. Please do not modify it."
      ],
      "metadata": {
        "id": "Nfs1P_32NXrf"
      }
    },
    {
      "cell_type": "code",
      "source": [
        "# perform the gradient descent search\n",
        "solutions = gradient_descent(objective, gradient, bounds, n_iter, gamma_t)\n",
        "solutions = asarray(solutions)"
      ],
      "metadata": {
        "id": "9vvHrQcONsS4"
      },
      "execution_count": null,
      "outputs": []
    },
    {
      "cell_type": "markdown",
      "source": [
        "##b.4. Plot results for Basic Gradient Descent\n",
        "Use the following block to plot the results. Please do not modify it."
      ],
      "metadata": {
        "id": "Bhe5hEn6PhYL"
      }
    },
    {
      "cell_type": "code",
      "source": [
        "# Figure 2\n",
        "# create a filled contour plot with 50 levels and jet color scheme\n",
        "figure_2 = pyplot.figure(2)\n",
        "pyplot.contourf(x, y, objective(x, y), levels=50, cmap='jet')\n",
        "# plot the solution\n",
        "pyplot.plot(solutions[:, 0], solutions[:, 1], '.-', color='w')\n",
        "# show the plot\n",
        "pyplot.show()"
      ],
      "metadata": {
        "id": "CziHksPYRCCw"
      },
      "execution_count": null,
      "outputs": []
    },
    {
      "cell_type": "markdown",
      "source": [
        "#Part c: Adaptive Gradient (AdaGrad)"
      ],
      "metadata": {
        "id": "xADvNOLRRu-G"
      }
    },
    {
      "cell_type": "markdown",
      "source": [
        "##c.1. Set Parameters\n",
        "You may change the following parameters."
      ],
      "metadata": {
        "id": "xUY0yYq4UBZH"
      }
    },
    {
      "cell_type": "code",
      "source": [
        "# define the total iterations\n",
        "n_iter = 200\n",
        "# define the step size\n",
        "gamma_t = 0.2"
      ],
      "metadata": {
        "id": "B4DxvxHiUEqn"
      },
      "execution_count": null,
      "outputs": []
    },
    {
      "cell_type": "markdown",
      "source": [
        "##c.2. AdaGrad Function\n",
        "Modify the following function to implement the AdaGrad approach."
      ],
      "metadata": {
        "id": "KW-RWYjfUeG0"
      }
    },
    {
      "cell_type": "code",
      "source": [
        "def adagrad(objective, derivative, bounds, n_iter, gamma_t):\n",
        "\t# track all solutions\n",
        "\tsolutions = list()\n",
        "\t# Consider an initial point\n",
        "\tp = [-10, 10]\n",
        "\tscore = objective(p[0], p[1])\n",
        "\t# initialize the preconditioner\n",
        "\tD = [0.0 for _ in range(bounds.shape[0])]\n",
        "\t# run the AdaGrad\n",
        "\tfor t in range(n_iter):\n",
        "\t\t# report progress\n",
        "\t\tprint('>%d f(%s) = %.5f' % (t, p, score))\n",
        "\t\t#<<TODO#4>> Add your code here\n",
        "\treturn solutions"
      ],
      "metadata": {
        "id": "OUGiMsWqUtjU"
      },
      "execution_count": null,
      "outputs": []
    },
    {
      "cell_type": "markdown",
      "source": [
        "##c.3. Solve the Problem using AdaGrad\n",
        "Use the following block to solve the problem. Please do not modify it. "
      ],
      "metadata": {
        "id": "yEP7xOFEU2TR"
      }
    },
    {
      "cell_type": "code",
      "source": [
        "# perform the AdaGrad search\n",
        "solutions = adagrad(objective, gradient, bounds, n_iter, gamma_t)\n",
        "solutions = asarray(solutions)"
      ],
      "metadata": {
        "id": "R-lHUVXUZ-Dq"
      },
      "execution_count": null,
      "outputs": []
    },
    {
      "cell_type": "markdown",
      "source": [
        "## c.4. Plot results for AdaGrad\n",
        "Use the following block to plot the results. Please do not modify it."
      ],
      "metadata": {
        "id": "Ja0opeTCaMtZ"
      }
    },
    {
      "cell_type": "code",
      "source": [
        "# Figure 3\n",
        "# create a filled contour plot with 50 levels and jet color scheme\n",
        "figure_3 = pyplot.figure(3)\n",
        "pyplot.contourf(x, y, objective(x, y), levels=50, cmap='jet')\n",
        "# plot the sample as black circles\n",
        "pyplot.plot(solutions[:, 0], solutions[:, 1], '.-', color='w')\n",
        "# show the plot\n",
        "pyplot.show()"
      ],
      "metadata": {
        "id": "6CcKrMirakW-"
      },
      "execution_count": null,
      "outputs": []
    },
    {
      "cell_type": "markdown",
      "source": [
        "#Part d: Adam"
      ],
      "metadata": {
        "id": "q_-kS-k0xOBG"
      }
    },
    {
      "cell_type": "markdown",
      "source": [
        "##d.1. Set Parameters\n",
        "You may change the following parameters."
      ],
      "metadata": {
        "id": "OTWLeAdaxe75"
      }
    },
    {
      "cell_type": "code",
      "source": [
        "eps=1e-8\n",
        "# define the total iterations\n",
        "n_iter = 200\n",
        "# steps size\n",
        "gamma_t = 0.2\n",
        "# factor for average gradient\n",
        "alpha = 0.8\n",
        "# factor for average squared gradient\n",
        "beta = 0.999"
      ],
      "metadata": {
        "id": "qrf5DxnAyJug"
      },
      "execution_count": null,
      "outputs": []
    },
    {
      "cell_type": "markdown",
      "source": [
        "##d.2. Adam Function\n",
        "Modify the following function to implement the Adam approach."
      ],
      "metadata": {
        "id": "tLvGcPzPxk7T"
      }
    },
    {
      "cell_type": "code",
      "source": [
        "def adam(objective, derivative, bounds, n_iter, gamma_t, alpha, beta, eps):\n",
        "\tsolutions = list()\n",
        "\t# consider an initial point\n",
        "\tp = [-10, 10]\n",
        "\tscore = objective(p[0], p[1])\n",
        "\t# initialize first and second moments\n",
        "\tm = [0.0 for _ in range(bounds.shape[0])]\n",
        "\tD = [0.0 for _ in range(bounds.shape[0])]\n",
        "\t# run the Adam updates\n",
        "\tfor t in range(n_iter):\n",
        "\t\t#<<TODO#5>> Add your code here\n",
        "\t\t# report progress\n",
        "\t\tprint('>%d f(%s) = %.5f' % (t, p, score))\n",
        "\treturn solutions"
      ],
      "metadata": {
        "id": "WixU0gevyTr2"
      },
      "execution_count": null,
      "outputs": []
    },
    {
      "cell_type": "markdown",
      "source": [
        "##d.3. Solve the Problem using Adam\n",
        "Use the following block to solve the problem. Please do not modify it. "
      ],
      "metadata": {
        "id": "UVYQzpYXxwD8"
      }
    },
    {
      "cell_type": "code",
      "source": [
        "# perform the Adam search\n",
        "solutions = adam(objective, gradient, bounds, n_iter, gamma_t, alpha, beta, eps)\n",
        "solutions = asarray(solutions)"
      ],
      "metadata": {
        "id": "sVsp47FTyhw3"
      },
      "execution_count": null,
      "outputs": []
    },
    {
      "cell_type": "markdown",
      "source": [
        "## d.4. Plot results for Adam\n",
        "Use the following block to plot the results. Please do not modify it."
      ],
      "metadata": {
        "id": "hNGio6ILx-Iq"
      }
    },
    {
      "cell_type": "code",
      "source": [
        "# Figure 4\n",
        "# create a filled contour plot with 50 levels and jet color scheme\n",
        "figure_4 = pyplot.figure(4)\n",
        "pyplot.contourf(x, y, objective(x, y), levels=50, cmap='jet')\n",
        "# plot the solution\n",
        "pyplot.plot(solutions[:, 0], solutions[:, 1], '.-', color='w')\n",
        "# show the plot\n",
        "pyplot.show()"
      ],
      "metadata": {
        "id": "ZEXDHpmUzOdo"
      },
      "execution_count": null,
      "outputs": []
    }
  ]
}